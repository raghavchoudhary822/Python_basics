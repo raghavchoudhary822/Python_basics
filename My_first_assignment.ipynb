{
 "cells": [
  {
   "cell_type": "code",
   "execution_count": null,
   "id": "4908950b-4ce5-488f-b3b2-72bc6c8a0404",
   "metadata": {},
   "outputs": [],
   "source": [
    "# Question 1. Explain the key features of python that make it a popular choice for programming.\n",
    "\n",
    "\n",
    "\"\"\"\n",
    "Answer:- Python is popular because of these key features:\n",
    "1. Easy to Read and Write: Python uses simple and clear syntax, making it easy for beginners to learn and for experienced programmers to read and write code quickly.\n",
    "2. Lots of Ready-to-Use Tools: Python comes with a big set of tools that you can use right away. You don't always need to start from scratch, which saves time and effort.\n",
    "3. Big Community: There are many people who use and support Python. This means it's easy to find help when you need it, and there are lots of extra tools and libraries you can use.\n",
    "4. Strong Industry Adoption: Python's versatility, ease of use, and powerful libraries have led to widespread adoption across industries such as finance, healthcare, education, and more. This makes Python skills highly valuable in the job market.\n",
    "5. Integration Capabilities: Python can easily integrate with other languages and technologies, making it a good choice for projects that require collaboration between different systems.\n",
    "6. Large Standard Library: Python comes with a vast collection of modules and libraries that help you perform many tasks without needing to write extra code.\n",
    "\n",
    "\"\"\""
   ]
  },
  {
   "cell_type": "code",
   "execution_count": 1,
   "id": "64f3f3cd-3742-4a81-816d-659f6522cca7",
   "metadata": {},
   "outputs": [
    {
     "name": "stdout",
     "output_type": "stream",
     "text": [
      "\n",
      "Here is a list of the Python keywords.  Enter any keyword to get more help.\n",
      "\n",
      "False               class               from                or\n",
      "None                continue            global              pass\n",
      "True                def                 if                  raise\n",
      "and                 del                 import              return\n",
      "as                  elif                in                  try\n",
      "assert              else                is                  while\n",
      "async               except              lambda              with\n",
      "await               finally             nonlocal            yield\n",
      "break               for                 not                 \n",
      "\n"
     ]
    }
   ],
   "source": [
    "# Question 2. Describe the role of predefined keywords in Python and provide examples of how they are used in a program.\n",
    "\n",
    "\"\"\"\n",
    "Answer:- predefined keywords are reserved words that have special meanings and are used to define the structure and syntax of the language. predefined keywords are the foundation of a programming language, providing the building blocks for writing effective, efficient, and well-structured code.\n",
    "  \n",
    "\"\"\"\n",
    "help(\"keywords\")"
   ]
  },
  {
   "cell_type": "code",
   "execution_count": 5,
   "id": "1fc69684-5a9b-4887-aeb0-0e0a9a981a52",
   "metadata": {},
   "outputs": [
    {
     "name": "stdout",
     "output_type": "stream",
     "text": [
      "x is greater than 8\n"
     ]
    }
   ],
   "source": [
    "# Now we are going to see some examples of predefined keywords:\n",
    "# first is (if)\n",
    "x = 9\n",
    "if x > 8:\n",
    "    print(\"x is greater than 8\")"
   ]
  },
  {
   "cell_type": "code",
   "execution_count": 3,
   "id": "daf51307-98ff-4bcb-ac66-0b2d8063554a",
   "metadata": {},
   "outputs": [
    {
     "name": "stdout",
     "output_type": "stream",
     "text": [
      "y is equal to 10\n"
     ]
    }
   ],
   "source": [
    "y = 75\n",
    "if y == 75:\n",
    "    print(\"y is equal to 10\")"
   ]
  },
  {
   "cell_type": "code",
   "execution_count": 6,
   "id": "0623d4a1-c253-4bb3-8b26-53f053ccdab2",
   "metadata": {},
   "outputs": [
    {
     "name": "stdout",
     "output_type": "stream",
     "text": [
      "x is not greater than 3\n"
     ]
    }
   ],
   "source": [
    "# Now we are going to see if with else \n",
    "x = 2\n",
    "if x > 3:\n",
    "    print(\"x is greater than 3\")\n",
    "else:\n",
    "    print(\"x is not greater than 3\")"
   ]
  },
  {
   "cell_type": "code",
   "execution_count": 7,
   "id": "05a8e44e-c0a0-49a3-9b5b-9f38636070de",
   "metadata": {},
   "outputs": [
    {
     "name": "stdout",
     "output_type": "stream",
     "text": [
      "y is not less than 10\n"
     ]
    }
   ],
   "source": [
    "y = 15\n",
    "if y < 10:\n",
    "    print(\"y is less than 10\")\n",
    "else:\n",
    "    print(\"y is not less than 10\")"
   ]
  },
  {
   "cell_type": "code",
   "execution_count": 11,
   "id": "05f89abd-49f4-44b3-8eec-1f9f62e1946b",
   "metadata": {},
   "outputs": [
    {
     "name": "stdout",
     "output_type": "stream",
     "text": [
      "Count is: 5\n",
      "Count is: 6\n",
      "Count is: 7\n",
      "Count is: 8\n",
      "Count is: 9\n"
     ]
    }
   ],
   "source": [
    "# second (while)\n",
    "count = 5\n",
    "while count < 10:\n",
    "    print(\"Count is:\", count)\n",
    "    count += 1"
   ]
  },
  {
   "cell_type": "code",
   "execution_count": 14,
   "id": "43c24e66-6687-4b13-9af8-6a4db73404f8",
   "metadata": {},
   "outputs": [
    {
     "name": "stdout",
     "output_type": "stream",
     "text": [
      "0\n",
      "1\n",
      "2\n",
      "3\n",
      "4\n",
      "5\n",
      "6\n",
      "7\n",
      "8\n"
     ]
    }
   ],
   "source": [
    "# third (for)\n",
    "for i in range(9):\n",
    "    print(i)"
   ]
  },
  {
   "cell_type": "code",
   "execution_count": 15,
   "id": "b1ddf1c0-344b-402f-b460-cd3faab14960",
   "metadata": {},
   "outputs": [
    {
     "name": "stdout",
     "output_type": "stream",
     "text": [
      "0 1 2 3 4 5 6 7 8 "
     ]
    }
   ],
   "source": [
    "for i in range(9):\n",
    "    print(i, end = \" \")"
   ]
  },
  {
   "cell_type": "code",
   "execution_count": 19,
   "id": "ba6dd78f-77fb-4a94-a94b-e98eb68739b3",
   "metadata": {},
   "outputs": [
    {
     "name": "stdout",
     "output_type": "stream",
     "text": [
      "The statement is True\n"
     ]
    }
   ],
   "source": [
    "# fourth is (true)\n",
    "govind = True\n",
    "if govind:\n",
    "    print(\"The statement is True\")"
   ]
  },
  {
   "cell_type": "code",
   "execution_count": 23,
   "id": "be7a5d71-cc94-4c62-88c8-54bc143bc8af",
   "metadata": {},
   "outputs": [
    {
     "name": "stdout",
     "output_type": "stream",
     "text": [
      "The task is not done\n"
     ]
    }
   ],
   "source": [
    "# fitth (false)\n",
    "a = False\n",
    "if not a:\n",
    "    print(\"The task is not done\")"
   ]
  },
  {
   "cell_type": "code",
   "execution_count": 24,
   "id": "00fc155b-3754-4f0b-9d70-83f51db31f3a",
   "metadata": {},
   "outputs": [],
   "source": [
    "# sixth (none)\n",
    "a = None"
   ]
  },
  {
   "cell_type": "code",
   "execution_count": 25,
   "id": "79b6db06-c778-48d3-b335-54977ca8f467",
   "metadata": {},
   "outputs": [
    {
     "data": {
      "text/plain": [
       "NoneType"
      ]
     },
     "execution_count": 25,
     "metadata": {},
     "output_type": "execute_result"
    }
   ],
   "source": [
    "type(a)"
   ]
  },
  {
   "cell_type": "code",
   "execution_count": 28,
   "id": "4f73a178-bbf7-44b2-aec9-00182d4ed39a",
   "metadata": {},
   "outputs": [
    {
     "name": "stdout",
     "output_type": "stream",
     "text": [
      "saitan is None\n"
     ]
    }
   ],
   "source": [
    "saitan = None\n",
    "if saitan == None:\n",
    "    print(\"saitan is None\")"
   ]
  },
  {
   "cell_type": "code",
   "execution_count": 5,
   "id": "314885d3-edf0-4f8b-8741-7d0d9be37ab4",
   "metadata": {},
   "outputs": [
    {
     "name": "stdout",
     "output_type": "stream",
     "text": [
      "[1, 2, 3]\n"
     ]
    }
   ],
   "source": [
    "#Question 3. Compare and contrast mutable and immutable objects in Python with examples.\n",
    "\n",
    "\"\"\"\n",
    "Answer:- Mutable Objects:- Mutable objects are those that can be changed after they are created. You can modify their content without changing their identity. Common examples of mutable objects include lists, dictionaries, and sets.\n",
    "         \n",
    "\"\"\"\n",
    "\n",
    "# examples: \n",
    "a = [1, 2, 3]\n",
    "print(a)\n",
    "\n"
   ]
  },
  {
   "cell_type": "code",
   "execution_count": 6,
   "id": "5cdd3b1f-ab5b-4f14-ab2f-c8fc3d55f669",
   "metadata": {},
   "outputs": [],
   "source": [
    "# i have changed the number on 3 position with 39\n",
    "\n",
    "a[2]=39"
   ]
  },
  {
   "cell_type": "code",
   "execution_count": 7,
   "id": "39455d4c-9846-468b-81d3-9b706005b8e4",
   "metadata": {},
   "outputs": [
    {
     "data": {
      "text/plain": [
       "[1, 2, 39]"
      ]
     },
     "execution_count": 7,
     "metadata": {},
     "output_type": "execute_result"
    }
   ],
   "source": [
    "a"
   ]
  },
  {
   "cell_type": "code",
   "execution_count": 8,
   "id": "a3f319ed-06b0-450d-85ce-2645baabe91a",
   "metadata": {},
   "outputs": [
    {
     "name": "stdout",
     "output_type": "stream",
     "text": [
      "(1, 2, 3, 'govind')\n"
     ]
    }
   ],
   "source": [
    "\n",
    "\"\"\"\n",
    "## Immutable Objects:- Immutable objects are those that cannot be changed after they are created. Any attempt to modify their content results in the creation of a new object. Common examples of immutable objects include strings, tuples, and numbers (integers, floats).\n",
    "\n",
    "\"\"\"\n",
    "# examples:\n",
    "a=(1,2,3,\"govind\")\n",
    "print(a)\n"
   ]
  },
  {
   "cell_type": "code",
   "execution_count": 9,
   "id": "db757e15-32d2-41fc-936e-19c0624abd33",
   "metadata": {},
   "outputs": [
    {
     "ename": "TypeError",
     "evalue": "'tuple' object does not support item assignment",
     "output_type": "error",
     "traceback": [
      "\u001b[0;31m---------------------------------------------------------------------------\u001b[0m",
      "\u001b[0;31mTypeError\u001b[0m                                 Traceback (most recent call last)",
      "Cell \u001b[0;32mIn[9], line 1\u001b[0m\n\u001b[0;32m----> 1\u001b[0m \u001b[43ma\u001b[49m\u001b[43m[\u001b[49m\u001b[38;5;241;43m3\u001b[39;49m\u001b[43m]\u001b[49m\u001b[38;5;241m=\u001b[39m\u001b[38;5;124m\"\u001b[39m\u001b[38;5;124majay\u001b[39m\u001b[38;5;124m\"\u001b[39m\n",
      "\u001b[0;31mTypeError\u001b[0m: 'tuple' object does not support item assignment"
     ]
    }
   ],
   "source": [
    "# i tried to change the 4 position with \"ajay\". but it will throw error\n",
    "a[3]=\"ajay\""
   ]
  },
  {
   "cell_type": "code",
   "execution_count": 14,
   "id": "e39f1c4f-059e-4ce8-8b6b-f03f6b13eb87",
   "metadata": {
    "tags": []
   },
   "outputs": [
    {
     "name": "stdout",
     "output_type": "stream",
     "text": [
      "30\n"
     ]
    }
   ],
   "source": [
    "# Question 4. Discuss the different types of operato$s in Python and provide examples of how they are used.\n",
    "\n",
    "\"\"\"\n",
    "Answer:-opeartors are special keywords or symbols that are used to perform operations on values and variable . There are various types of operators in python\n",
    "\n",
    "1. Arithmetic operator\n",
    "ex : +, - , * ,/ , % etc\n",
    "\n",
    "2. comparison opeartor\n",
    "ex: <,> ,== etc\n",
    "\n",
    "3. logical operator\n",
    "ex: and , or , not\n",
    "\n",
    "4. assignment operator\n",
    ", += , -= , *= etc\n",
    "\n",
    "5. membership operator\n",
    "ex: in , not in\n",
    "\n",
    "6. identity operator\n",
    "ex: is , is not\n",
    "\n",
    "7. bitwise operator\n",
    "ex: & , | , ^ , ~ , << , >>\n",
    "\n",
    "\"\"\"\n",
    "# examples:\n",
    "# 1. Arithmetic operator\n",
    "#They are used to perform arithmetical operations\n",
    "a = 10\n",
    "b = 20\n",
    "c = a + b\n",
    "print(c)\n"
   ]
  },
  {
   "cell_type": "code",
   "execution_count": 15,
   "id": "203597bb-1b24-42f9-8738-66ac36dba77e",
   "metadata": {},
   "outputs": [
    {
     "name": "stdout",
     "output_type": "stream",
     "text": [
      "b is greater than a\n"
     ]
    }
   ],
   "source": [
    "# 2. comparison operator\n",
    "\n",
    "# They are used to compare two values\n",
    "a = 10\n",
    "b = 20\n",
    "if a > b:\n",
    "    print(\"a is greater than b\")\n",
    "else:\n",
    "    print(\"b is greater than a\")"
   ]
  },
  {
   "cell_type": "code",
   "execution_count": 17,
   "id": "54244992-233f-45fa-8bbc-a78625c66042",
   "metadata": {},
   "outputs": [
    {
     "name": "stdout",
     "output_type": "stream",
     "text": [
      "this is right\n"
     ]
    }
   ],
   "source": [
    "# 3. logical operator\n",
    "# Logical operators in Python are used to combine conditional statements\n",
    "a = 10\n",
    "b = 20\n",
    "c = 30\n",
    "\n",
    "if (a < b) and (b < c):\n",
    "    print(\"this is right\")\n",
    "else:\n",
    "    print(\"this is woring\")"
   ]
  },
  {
   "cell_type": "code",
   "execution_count": 19,
   "id": "381dedae-df8d-49bd-81fc-cf889d48055d",
   "metadata": {},
   "outputs": [
    {
     "name": "stdout",
     "output_type": "stream",
     "text": [
      "30\n"
     ]
    }
   ],
   "source": [
    "# 4. assignment operator\n",
    "# They are used to assign values to variables\n",
    "a = 10\n",
    "b = 20\n",
    "c = a + b\n",
    "print(c)"
   ]
  },
  {
   "cell_type": "code",
   "execution_count": 20,
   "id": "aec8a082-de6e-4642-a6d1-0aa00af241df",
   "metadata": {},
   "outputs": [
    {
     "name": "stdout",
     "output_type": "stream",
     "text": [
      "3 is present in the list\n"
     ]
    }
   ],
   "source": [
    "# 5. membership operator\n",
    "#They are used to check if a value is present in a sequence.\n",
    "a = [1, 2, 3, 4, 5]\n",
    "if 3 in a:\n",
    "    print(\"3 is present in the list\")\n",
    "else:\n",
    "    print(\"3 is not present in the list\")"
   ]
  },
  {
   "cell_type": "code",
   "execution_count": 21,
   "id": "c7be2f29-ae65-4361-a250-c873e501f854",
   "metadata": {},
   "outputs": [
    {
     "name": "stdout",
     "output_type": "stream",
     "text": [
      "d and f refer to the same object.\n"
     ]
    }
   ],
   "source": [
    "# 6. identity operator\n",
    "# They are used to check if two variables refer to the same object\n",
    "d = [55, 16, 17]\n",
    "f = d\n",
    "\n",
    "if d is f:\n",
    "    print(\"d and f refer to the same object.\")\n",
    "else:\n",
    "    print(\"d and f do not refer to the same object.\")"
   ]
  },
  {
   "cell_type": "code",
   "execution_count": 23,
   "id": "4d789793-9229-4382-bd13-d775d652ce67",
   "metadata": {},
   "outputs": [
    {
     "name": "stdout",
     "output_type": "stream",
     "text": [
      "0\n"
     ]
    }
   ],
   "source": [
    "# 7. bitwise operator\n",
    "# They are used to perform bitwise operations on integers\n",
    "a = 10\n",
    "b = 20\n",
    "c = a & b\n",
    "print(c)"
   ]
  },
  {
   "cell_type": "code",
   "execution_count": 24,
   "id": "d168f0a5-aded-4597-a9db-fcfdb456ba40",
   "metadata": {},
   "outputs": [
    {
     "name": "stdout",
     "output_type": "stream",
     "text": [
      "5.0\n"
     ]
    }
   ],
   "source": [
    "# Question 5. explain the concept of type casting in Python with examples.\n",
    "\n",
    "\"\"\"\n",
    "Answer:- \n",
    "type casting : Type casting in Python refers to converting a variable from one data type to another. This is useful when you need to perform operations that require specific data types or when you want to change the representation of data. Python provides several built-in functions for type casting.\n",
    "\n",
    "\"\"\"\n",
    "# examples\n",
    "# Integer to Float\n",
    "a = 5\n",
    "b = float(a)\n",
    "print(b)"
   ]
  },
  {
   "cell_type": "code",
   "execution_count": 25,
   "id": "822d702a-0abb-4257-9919-a5ff75b2c6fa",
   "metadata": {},
   "outputs": [
    {
     "name": "stdout",
     "output_type": "stream",
     "text": [
      "9\n"
     ]
    }
   ],
   "source": [
    "# Float to Integer\n",
    "a = 9.9\n",
    "b = int(a)\n",
    "print(b)"
   ]
  },
  {
   "cell_type": "code",
   "execution_count": 27,
   "id": "ca26055e-8dd6-4a72-8822-fcda43c2ae99",
   "metadata": {},
   "outputs": [
    {
     "name": "stdout",
     "output_type": "stream",
     "text": [
      "945\n"
     ]
    }
   ],
   "source": [
    "# String to Integer\n",
    "a = \"945\"\n",
    "b = int(a)\n",
    "print(b)"
   ]
  },
  {
   "cell_type": "code",
   "execution_count": 28,
   "id": "03ed9599-2fc9-4237-9e70-c68de642e96a",
   "metadata": {},
   "outputs": [
    {
     "name": "stdout",
     "output_type": "stream",
     "text": [
      "d is lesss than 18\n"
     ]
    }
   ],
   "source": [
    "# Question 6. How do conditional statements work in Python? Illustrate with examples\n",
    "\n",
    "\"\"\"\n",
    "Answer:- conditional statement: Conditional statements are used to execute different blocks of code based on specific conditions or rules. They are fundamental in programming\n",
    "\n",
    "\"\"\"\n",
    "# if statement\n",
    "\n",
    "d = 18\n",
    "\n",
    "if d >= 18:\n",
    "    print(\"d is lesss than 18\")\n"
   ]
  },
  {
   "cell_type": "code",
   "execution_count": 38,
   "id": "67ca67c6-22df-4983-980a-4d80070d81b3",
   "metadata": {},
   "outputs": [
    {
     "name": "stdout",
     "output_type": "stream",
     "text": [
      "you are adult\n"
     ]
    }
   ],
   "source": [
    "# if & else statement\n",
    "age = 30\n",
    "\n",
    "if age > 18:\n",
    "    print(\"you are adult\")\n",
    "else:\n",
    "    print(\"you are not teenager\")\n"
   ]
  },
  {
   "cell_type": "code",
   "execution_count": 45,
   "id": "6dcf493e-9692-4baf-b08e-f91dcef73659",
   "metadata": {},
   "outputs": [
    {
     "name": "stdout",
     "output_type": "stream",
     "text": [
      "you are younger than 50\n"
     ]
    }
   ],
   "source": [
    "# if , elif & else\n",
    "age = 49\n",
    "\n",
    "if age > 100:\n",
    "    print(\"you are older than 100\")\n",
    "elif age > 50:\n",
    "    print(\"you are older than 50 \")  \n",
    "else:\n",
    "    print(\"you are younger than 50\")\n",
    "\n"
   ]
  },
  {
   "cell_type": "code",
   "execution_count": 46,
   "id": "928e7bda-56dc-408a-9c1d-4bd5a81930cf",
   "metadata": {},
   "outputs": [
    {
     "name": "stdout",
     "output_type": "stream",
     "text": [
      "govind\n",
      "ajay\n",
      "vijay\n"
     ]
    }
   ],
   "source": [
    "# Question 7. Describe the different types of loops in Python and their use cases with examples.\n",
    "\n",
    "\"\"\"\n",
    "Answer:- In Python, loops are used to execute a block of code repeatedly as long as a condition is met. There are two main types of loops: for loops and while loops.\n",
    "\n",
    "\"\"\"\n",
    "# examples\n",
    "# for loop\n",
    "\n",
    "name = [\"govind\",\"ajay\",\"vijay\"]\n",
    "for i in name:\n",
    "    print(i)\n"
   ]
  },
  {
   "cell_type": "code",
   "execution_count": 47,
   "id": "9c8db24d-d235-40f2-9171-134b920ba929",
   "metadata": {},
   "outputs": [
    {
     "name": "stdout",
     "output_type": "stream",
     "text": [
      "5\n",
      "6\n",
      "7\n",
      "8\n",
      "9\n"
     ]
    }
   ],
   "source": [
    "# while loop\n",
    "count = 5\n",
    "while count < 10:\n",
    "    print(count)\n",
    "    count += 1"
   ]
  },
  {
   "cell_type": "code",
   "execution_count": 54,
   "id": "2e6f73cb-7230-4cf9-acf7-4bb76d72dfa9",
   "metadata": {},
   "outputs": [
    {
     "name": "stdout",
     "output_type": "stream",
     "text": [
      "1\n",
      "2\n"
     ]
    }
   ],
   "source": [
    "# for loop with break\n",
    "n = [1,2,3,4,5]\n",
    "for i in n:\n",
    "    if i == 3:\n",
    "        break\n",
    "    print(i)"
   ]
  },
  {
   "cell_type": "code",
   "execution_count": 55,
   "id": "4c908de7-8a14-41b6-b9b0-953830bf8ca3",
   "metadata": {},
   "outputs": [
    {
     "name": "stdout",
     "output_type": "stream",
     "text": [
      "1\n",
      "2\n",
      "4\n",
      "5\n"
     ]
    }
   ],
   "source": [
    "# for loop with continue\n",
    "n = [1,2,3,4,5]\n",
    "for i in n:\n",
    "    if i == 3:\n",
    "        continue\n",
    "    print(i)"
   ]
  },
  {
   "cell_type": "code",
   "execution_count": null,
   "id": "adb1c8ff-08be-4416-a26b-02b6798471a2",
   "metadata": {},
   "outputs": [],
   "source": []
  }
 ],
 "metadata": {
  "kernelspec": {
   "display_name": "Python 3 (ipykernel)",
   "language": "python",
   "name": "python3"
  },
  "language_info": {
   "codemirror_mode": {
    "name": "ipython",
    "version": 3
   },
   "file_extension": ".py",
   "mimetype": "text/x-python",
   "name": "python",
   "nbconvert_exporter": "python",
   "pygments_lexer": "ipython3",
   "version": "3.10.8"
  }
 },
 "nbformat": 4,
 "nbformat_minor": 5
}
